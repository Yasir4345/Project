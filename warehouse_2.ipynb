{
 "cells": [
  {
   "cell_type": "code",
   "execution_count": 14,
   "id": "ca10a991",
   "metadata": {},
   "outputs": [],
   "source": [
    "import pandas as pd\n",
    "import numpy as np\n",
    "from sklearn.model_selection import train_test_split\n",
    "from sklearn.preprocessing import StandardScaler\n",
    "from sklearn.metrics import mean_squared_error\n",
    "\n",
    "data = pd.read_csv('Warehouse_and_Retail_Sales.csv')"
   ]
  },
  {
   "cell_type": "code",
   "execution_count": 15,
   "id": "0a12ddc2",
   "metadata": {},
   "outputs": [
    {
     "data": {
      "text/html": [
       "<div>\n",
       "<style scoped>\n",
       "    .dataframe tbody tr th:only-of-type {\n",
       "        vertical-align: middle;\n",
       "    }\n",
       "\n",
       "    .dataframe tbody tr th {\n",
       "        vertical-align: top;\n",
       "    }\n",
       "\n",
       "    .dataframe thead th {\n",
       "        text-align: right;\n",
       "    }\n",
       "</style>\n",
       "<table border=\"1\" class=\"dataframe\">\n",
       "  <thead>\n",
       "    <tr style=\"text-align: right;\">\n",
       "      <th></th>\n",
       "      <th>YEAR</th>\n",
       "      <th>MONTH</th>\n",
       "      <th>SUPPLIER</th>\n",
       "      <th>ITEM CODE</th>\n",
       "      <th>ITEM DESCRIPTION</th>\n",
       "      <th>ITEM TYPE</th>\n",
       "      <th>RETAIL SALES</th>\n",
       "      <th>RETAIL TRANSFERS</th>\n",
       "      <th>WAREHOUSE SALES</th>\n",
       "    </tr>\n",
       "  </thead>\n",
       "  <tbody>\n",
       "    <tr>\n",
       "      <th>0</th>\n",
       "      <td>2020</td>\n",
       "      <td>1</td>\n",
       "      <td>REPUBLIC NATIONAL DISTRIBUTING CO</td>\n",
       "      <td>100009</td>\n",
       "      <td>BOOTLEG RED - 750ML</td>\n",
       "      <td>WINE</td>\n",
       "      <td>0.00</td>\n",
       "      <td>0.0</td>\n",
       "      <td>2.0</td>\n",
       "    </tr>\n",
       "    <tr>\n",
       "      <th>1</th>\n",
       "      <td>2020</td>\n",
       "      <td>1</td>\n",
       "      <td>PWSWN INC</td>\n",
       "      <td>100024</td>\n",
       "      <td>MOMENT DE PLAISIR - 750ML</td>\n",
       "      <td>WINE</td>\n",
       "      <td>0.00</td>\n",
       "      <td>1.0</td>\n",
       "      <td>4.0</td>\n",
       "    </tr>\n",
       "    <tr>\n",
       "      <th>2</th>\n",
       "      <td>2020</td>\n",
       "      <td>1</td>\n",
       "      <td>RELIABLE CHURCHILL LLLP</td>\n",
       "      <td>1001</td>\n",
       "      <td>S SMITH ORGANIC PEAR CIDER - 18.7OZ</td>\n",
       "      <td>BEER</td>\n",
       "      <td>0.00</td>\n",
       "      <td>0.0</td>\n",
       "      <td>1.0</td>\n",
       "    </tr>\n",
       "    <tr>\n",
       "      <th>3</th>\n",
       "      <td>2020</td>\n",
       "      <td>1</td>\n",
       "      <td>LANTERNA DISTRIBUTORS INC</td>\n",
       "      <td>100145</td>\n",
       "      <td>SCHLINK HAUS KABINETT - 750ML</td>\n",
       "      <td>WINE</td>\n",
       "      <td>0.00</td>\n",
       "      <td>0.0</td>\n",
       "      <td>1.0</td>\n",
       "    </tr>\n",
       "    <tr>\n",
       "      <th>4</th>\n",
       "      <td>2020</td>\n",
       "      <td>1</td>\n",
       "      <td>DIONYSOS IMPORTS INC</td>\n",
       "      <td>100293</td>\n",
       "      <td>SANTORINI GAVALA WHITE - 750ML</td>\n",
       "      <td>WINE</td>\n",
       "      <td>0.82</td>\n",
       "      <td>0.0</td>\n",
       "      <td>0.0</td>\n",
       "    </tr>\n",
       "  </tbody>\n",
       "</table>\n",
       "</div>"
      ],
      "text/plain": [
       "   YEAR  MONTH                           SUPPLIER ITEM CODE  \\\n",
       "0  2020      1  REPUBLIC NATIONAL DISTRIBUTING CO    100009   \n",
       "1  2020      1                          PWSWN INC    100024   \n",
       "2  2020      1            RELIABLE CHURCHILL LLLP      1001   \n",
       "3  2020      1          LANTERNA DISTRIBUTORS INC    100145   \n",
       "4  2020      1               DIONYSOS IMPORTS INC    100293   \n",
       "\n",
       "                      ITEM DESCRIPTION ITEM TYPE  RETAIL SALES  \\\n",
       "0                  BOOTLEG RED - 750ML      WINE          0.00   \n",
       "1            MOMENT DE PLAISIR - 750ML      WINE          0.00   \n",
       "2  S SMITH ORGANIC PEAR CIDER - 18.7OZ      BEER          0.00   \n",
       "3        SCHLINK HAUS KABINETT - 750ML      WINE          0.00   \n",
       "4       SANTORINI GAVALA WHITE - 750ML      WINE          0.82   \n",
       "\n",
       "   RETAIL TRANSFERS  WAREHOUSE SALES  \n",
       "0               0.0              2.0  \n",
       "1               1.0              4.0  \n",
       "2               0.0              1.0  \n",
       "3               0.0              1.0  \n",
       "4               0.0              0.0  "
      ]
     },
     "execution_count": 15,
     "metadata": {},
     "output_type": "execute_result"
    }
   ],
   "source": [
    "data.head()"
   ]
  },
  {
   "cell_type": "code",
   "execution_count": 16,
   "id": "d4804a42",
   "metadata": {},
   "outputs": [
    {
     "data": {
      "image/png": "[encoded data removed]",
      "text/plain": [
       "<Figure size 1000x500 with 1 Axes>"
      ]
     },
     "metadata": {},
     "output_type": "display_data"
    }
   ],
   "source": [
    "import matplotlib.pyplot as plt\n",
    "import seaborn as sns\n",
    "\n",
    "yearly_sales = data.groupby('YEAR')['RETAIL SALES'].sum().reset_index()\n",
    "\n",
    "# Creating a bar plot with color based on the YEAR variable\n",
    "plt.figure(figsize=(10, 5))\n",
    "sns.barplot(x='YEAR', y='RETAIL SALES', hue='YEAR', data=yearly_sales, palette='viridis', dodge=False)\n",
    "plt.title('Total Retail Sales per Year')\n",
    "plt.xlabel('Year')\n",
    "plt.ylabel('Total Retail Sales')\n",
    "plt.grid(axis='y')\n",
    "plt.legend(title='Year', loc='upper left')\n",
    "plt.show()"
   ]
  },
  {
   "cell_type": "code",
   "execution_count": 17,
   "id": "b48715a2",
   "metadata": {},
   "outputs": [
    {
     "name": "stdout",
     "output_type": "stream",
     "text": [
      "Pre-processing completed. Dataset is ready for modeling.\n"
     ]
    }
   ],
   "source": [
    "import warnings\n",
    "warnings.filterwarnings('ignore')\n",
    "\n",
    "# Handle missing values\n",
    "data['SUPPLIER'].fillna('Unknown', inplace=True)\n",
    "data['ITEM TYPE'].fillna('Unknown', inplace=True)\n",
    "data['RETAIL SALES'].fillna(0, inplace=True)\n",
    "\n",
    "# Convert categorical columns to numerical using one-hot encoding\n",
    "data = pd.get_dummies(data, columns=['SUPPLIER', 'ITEM TYPE'], drop_first=True)\n",
    "\n",
    "# Drop unnecessary columns\n",
    "data.drop(columns=['ITEM CODE', 'ITEM DESCRIPTION'], inplace=True)\n",
    "\n",
    "# Normalize numerical columns\n",
    "scaler = StandardScaler()\n",
    "numerical_columns = ['YEAR', 'MONTH', 'RETAIL SALES', 'RETAIL TRANSFERS', 'WAREHOUSE SALES']\n",
    "data[numerical_columns] = scaler.fit_transform(data[numerical_columns])\n",
    "\n",
    "print(\"Pre-processing completed. Dataset is ready for modeling.\")"
   ]
  },
  {
   "cell_type": "code",
   "execution_count": 18,
   "id": "2e863952",
   "metadata": {},
   "outputs": [],
   "source": [
    "# Separate features and target\n",
    "X = data.drop(columns=['RETAIL SALES'])\n",
    "y = data['RETAIL SALES']\n",
    "\n",
    "# Split the dataset into training and testing sets\n",
    "X_train, X_test, y_train, y_test = train_test_split(X, y, test_size=0.2, random_state=42)\n",
    "\n",
    "# Standardize the features\n",
    "scaler = StandardScaler()\n",
    "X_train = scaler.fit_transform(X_train)\n",
    "X_test = scaler.transform(X_test)"
   ]
  },
  {
   "cell_type": "code",
   "execution_count": 19,
   "id": "1ad67e65",
   "metadata": {},
   "outputs": [
    {
     "name": "stdout",
     "output_type": "stream",
     "text": [
      "Linear Regression MSE: 2032383552311002.5\n"
     ]
    }
   ],
   "source": [
    "from sklearn.linear_model import LinearRegression\n",
    "from sklearn.metrics import mean_squared_error\n",
    "\n",
    "# Machine Learning Model: Linear Regression\n",
    "lr_model = LinearRegression()\n",
    "lr_model.fit(X_train, y_train)\n",
    "\n",
    "# Predict on the test set\n",
    "lr_predictions = lr_model.predict(X_test)\n",
    "\n",
    "# Evaluate the model\n",
    "lr_mse = mean_squared_error(y_test, lr_predictions)\n",
    "print(f\"Linear Regression MSE: {lr_mse}\")"
   ]
  },
  {
   "cell_type": "code",
   "execution_count": 20,
   "id": "0cd2fa83",
   "metadata": {},
   "outputs": [
    {
     "name": "stdout",
     "output_type": "stream",
     "text": [
      "Linear Regression R^2 Score: -2096140948304571.5\n",
      "Accuracy: -2096140948304571.5\n"
     ]
    }
   ],
   "source": [
    "# Accuracy Score\n",
    "from sklearn.metrics import r2_score\n",
    "\n",
    "lr_r2 = r2_score(y_test, lr_predictions)\n",
    "print(f\"Linear Regression R^2 Score: {lr_r2}\")\n",
    "\n",
    "accuracy = lr_model.score(X_test, y_test)\n",
    "print(f\"Accuracy: {accuracy}\")"
   ]
  },
  {
   "cell_type": "code",
   "execution_count": 21,
   "id": "aa9f32be",
   "metadata": {},
   "outputs": [
    {
     "name": "stdout",
     "output_type": "stream",
     "text": [
      "RMSE: 45081964.82309752\n"
     ]
    }
   ],
   "source": [
    "# rmse\n",
    "from math import sqrt\n",
    "\n",
    "rmse = sqrt(lr_mse)\n",
    "print(f\"RMSE: {rmse}\")"
   ]
  },
  {
   "cell_type": "code",
   "execution_count": 22,
   "id": "62c19546",
   "metadata": {},
   "outputs": [
    {
     "name": "stdout",
     "output_type": "stream",
     "text": [
      "Best alpha: 100\n",
      "Ridge Regression MSE: 0.06562163314483378\n"
     ]
    }
   ],
   "source": [
    "# Replace the linear regression with a Ridge model (regularized) and tune alpha via GridSearchCV\n",
    "from sklearn.linear_model import Ridge\n",
    "from sklearn.model_selection import GridSearchCV\n",
    "\n",
    "param_grid = {'alpha': [0.01, 0.1, 1, 10, 100]}\n",
    "ridge = Ridge()\n",
    "grid_search = GridSearchCV(ridge, param_grid, scoring='neg_mean_squared_error', cv=3, n_jobs=-1)\n",
    "grid_search.fit(X_train, y_train)\n",
    "\n",
    "best_alpha = grid_search.best_params_['alpha']\n",
    "best_ridge = grid_search.best_estimator_\n",
    "print(f\"Best alpha: {best_alpha}\")\n",
    "\n",
    "ridge_predictions = best_ridge.predict(X_test)\n",
    "ridge_mse = mean_squared_error(y_test, ridge_predictions)\n",
    "print(f\"Ridge Regression MSE: {ridge_mse}\")"
   ]
  },
  {
   "cell_type": "code",
   "execution_count": 23,
   "id": "7a3f950d",
   "metadata": {},
   "outputs": [
    {
     "name": "stdout",
     "output_type": "stream",
     "text": [
      "Ridge Regression R^2 Score: 0.9323197670178459\n",
      "Accuracy: 0.9323197670178459\n"
     ]
    }
   ],
   "source": [
    "# Accuracy Score\n",
    "ridge_r2 = r2_score(y_test, ridge_predictions)\n",
    "print(f\"Ridge Regression R^2 Score: {ridge_r2}\")\n",
    "\n",
    "accuracy = best_ridge.score(X_test, y_test)\n",
    "print(f\"Accuracy: {accuracy}\")"
   ]
  },
  {
   "cell_type": "code",
   "execution_count": 24,
   "id": "49b7ac64",
   "metadata": {},
   "outputs": [
    {
     "name": "stdout",
     "output_type": "stream",
     "text": [
      "Decision Tree MSE: 0.22081358021201672\n",
      "Decision Tree R^2 Score: 0.7722593322024107\n",
      "Accuracy: 0.7722593322024107\n"
     ]
    }
   ],
   "source": [
    "# Using Decision Tree Regressor\n",
    "from sklearn.tree import DecisionTreeRegressor\n",
    "\n",
    "dt_model = DecisionTreeRegressor()\n",
    "dt_model.fit(X_train, y_train)\n",
    "\n",
    "dt_predictions = dt_model.predict(X_test)\n",
    "dt_mse = mean_squared_error(y_test, dt_predictions)\n",
    "print(f\"Decision Tree MSE: {dt_mse}\")\n",
    "\n",
    "# Accuracy Score\n",
    "dt_r2 = r2_score(y_test, dt_predictions)\n",
    "print(f\"Decision Tree R^2 Score: {dt_r2}\")\n",
    "\n",
    "accuracy = dt_model.score(X_test, y_test)\n",
    "print(f\"Accuracy: {accuracy}\")"
   ]
  },
  {
   "cell_type": "code",
   "execution_count": 25,
   "id": "a7037bbb",
   "metadata": {},
   "outputs": [
    {
     "name": "stdout",
     "output_type": "stream",
     "text": [
      "Gradient Boosting Regressor MSE: 0.05840834539093726\n",
      "Gradient Boosting Regressor RMSE: 0.24167818559178497\n",
      "Gradient Boosting Regressor R^2 Score: 0.9397593410173765\n",
      "Gradient Boosting Regressor Accuracy: 0.9397593410173765\n"
     ]
    }
   ],
   "source": [
    "from sklearn.ensemble import GradientBoostingRegressor\n",
    "\n",
    "# Gradient Boosting Regressor\n",
    "gbr_model = GradientBoostingRegressor(random_state=42)\n",
    "gbr_model.fit(X_train, y_train)\n",
    "\n",
    "gbr_predictions = gbr_model.predict(X_test)\n",
    "gbr_mse = mean_squared_error(y_test, gbr_predictions)\n",
    "gbr_rmse = sqrt(gbr_mse)\n",
    "gbr_r2 = r2_score(y_test, gbr_predictions)\n",
    "gbr_accuracy = gbr_model.score(X_test, y_test)\n",
    "\n",
    "print(f\"Gradient Boosting Regressor MSE: {gbr_mse}\")\n",
    "print(f\"Gradient Boosting Regressor RMSE: {gbr_rmse}\")\n",
    "print(f\"Gradient Boosting Regressor R^2 Score: {gbr_r2}\")\n",
    "print(f\"Gradient Boosting Regressor Accuracy: {gbr_accuracy}\")"
   ]
  },
  {
   "cell_type": "code",
   "execution_count": 26,
   "id": "980da2fe",
   "metadata": {},
   "outputs": [
    {
     "name": "stdout",
     "output_type": "stream",
     "text": [
      "XGBoost MSE: 0.15838558395935556\n",
      "XGBoost RMSE: 0.39797686359806844\n",
      "XGBoost R^2 Score: 0.8366457415083758\n",
      "XGBoost Accuracy: 0.8366457415083758\n"
     ]
    }
   ],
   "source": [
    "from xgboost import XGBRegressor\n",
    "from lightgbm import LGBMRegressor\n",
    "\n",
    "# XGBoost Regressor\n",
    "xgboost_model = XGBRegressor(random_state=42)\n",
    "xgboost_model.fit(X_train, y_train)\n",
    "xgboost_predictions = xgboost_model.predict(X_test)\n",
    "xgboost_mse = mean_squared_error(y_test, xgboost_predictions)\n",
    "xgboost_rmse = sqrt(xgboost_mse)\n",
    "xgboost_r2 = r2_score(y_test, xgboost_predictions)\n",
    "xgboost_accuracy = xgboost_model.score(X_test, y_test)\n",
    "print(f\"XGBoost MSE: {xgboost_mse}\")\n",
    "print(f\"XGBoost RMSE: {xgboost_rmse}\")\n",
    "print(f\"XGBoost R^2 Score: {xgboost_r2}\")\n",
    "print(f\"XGBoost Accuracy: {xgboost_accuracy}\")"
   ]
  },
  {
   "cell_type": "code",
   "execution_count": 27,
   "id": "95f58440",
   "metadata": {},
   "outputs": [
    {
     "name": "stdout",
     "output_type": "stream",
     "text": [
      "[LightGBM] [Info] Auto-choosing row-wise multi-threading, the overhead of testing was 0.046712 seconds.\n",
      "You can set `force_row_wise=true` to remove the overhead.\n",
      "And if memory is not enough, you can set `force_col_wise=true`.\n",
      "[LightGBM] [Info] Total Bins 1419\n",
      "[LightGBM] [Info] Number of data points in the train set: 246116, number of used features: 301\n",
      "[LightGBM] [Info] Start training from score 0.000700\n",
      "LightGBM MSE: 0.0803596559155545\n",
      "LightGBM RMSE: 0.28347778734065654\n",
      "LightGBM R^2 Score: 0.9171194014216842\n",
      "LightGBM Accuracy: 0.9171194014216842\n"
     ]
    }
   ],
   "source": [
    "# LightGBM Regressor\n",
    "lightgbm_model = LGBMRegressor(random_state=42)\n",
    "lightgbm_model.fit(X_train, y_train)\n",
    "lightgbm_predictions = lightgbm_model.predict(X_test)\n",
    "lightgbm_mse = mean_squared_error(y_test, lightgbm_predictions)\n",
    "lightgbm_rmse = sqrt(lightgbm_mse)\n",
    "lightgbm_r2 = r2_score(y_test, lightgbm_predictions)\n",
    "lightgbm_accuracy = lightgbm_model.score(X_test, y_test)\n",
    "print(f\"LightGBM MSE: {lightgbm_mse}\")\n",
    "print(f\"LightGBM RMSE: {lightgbm_rmse}\")\n",
    "print(f\"LightGBM R^2 Score: {lightgbm_r2}\")\n",
    "print(f\"LightGBM Accuracy: {lightgbm_accuracy}\")"
   ]
  },
  {
   "cell_type": "code",
   "execution_count": 28,
   "id": "73142763",
   "metadata": {},
   "outputs": [
    {
     "name": "stdout",
     "output_type": "stream",
     "text": [
      "CatBoost MSE: 0.1910625590601322\n",
      "CatBoost RMSE: 0.4371070338717191\n",
      "CatBoost R^2 Score: 0.8029436651962637\n",
      "CatBoost Accuracy: 0.8029436651962637\n"
     ]
    }
   ],
   "source": [
    "from catboost import CatBoostRegressor\n",
    "\n",
    "# CatBoost Regressor\n",
    "catboost_model = CatBoostRegressor(verbose=0, random_state=42)\n",
    "catboost_model.fit(X_train, y_train)\n",
    "catboost_predictions = catboost_model.predict(X_test)\n",
    "catboost_mse = mean_squared_error(y_test, catboost_predictions)\n",
    "catboost_rmse = sqrt(catboost_mse)\n",
    "catboost_r2 = r2_score(y_test, catboost_predictions)\n",
    "catboost_accuracy = catboost_model.score(X_test, y_test)\n",
    "print(f\"CatBoost MSE: {catboost_mse}\")\n",
    "print(f\"CatBoost RMSE: {catboost_rmse}\")\n",
    "print(f\"CatBoost R^2 Score: {catboost_r2}\")\n",
    "print(f\"CatBoost Accuracy: {catboost_accuracy}\")"
   ]
  },
  {
   "cell_type": "code",
   "execution_count": 33,
   "id": "ceeeeb28",
   "metadata": {},
   "outputs": [
    {
     "data": {
      "image/png": "[encoded data removed]",
      "text/plain": [
       "<Figure size 1000x600 with 1 Axes>"
      ]
     },
     "metadata": {},
     "output_type": "display_data"
    }
   ],
   "source": [
    "# Accuracy scores for each model\n",
    "model_accuracies = {\n",
    "    \"Ridge Regression\": ridge_r2 * 100,\n",
    "    \"Decision Tree\": dt_r2 * 100,\n",
    "    \"Gradient Boosting\": gbr_r2 * 100,\n",
    "    \"XGBoost\": xgboost_r2 * 100,\n",
    "    \"LightGBM\": lightgbm_r2 * 100,\n",
    "    \"CatBoost\": catboost_r2 * 100\n",
    "}\n",
    "\n",
    "# Create a bar chart\n",
    "plt.figure(figsize=(10, 6))\n",
    "sns.barplot(x=list(model_accuracies.keys()), y=list(model_accuracies.values()), palette=\"viridis\")\n",
    "\n",
    "# Add percentage labels on top of each bar\n",
    "for index, value in enumerate(model_accuracies.values()):\n",
    "    plt.text(index, value + 1, f\"{value:.2f}%\", ha='center', fontsize=10)\n",
    "\n",
    "plt.title(\"Model Accuracy Comparison (%)\")\n",
    "plt.xlabel(\"Models\")\n",
    "plt.ylabel(\"Accuracy (%)\")\n",
    "plt.xticks(rotation=45)\n",
    "plt.grid(axis='y')\n",
    "\n",
    "# Add legend for models excluding Linear Regression\n",
    "handles = [plt.Line2D([0], [0], color=sns.color_palette(\"viridis\")[i], lw=4) for i in range(len(model_accuracies))]\n",
    "labels = [model for model in model_accuracies.keys()]\n",
    "plt.legend(handles, labels, title=\"Models\", loc='upper left', bbox_to_anchor=(1, 1))\n",
    "\n",
    "plt.show()"
   ]
  }
 ],
 "metadata": {
  "kernelspec": {
   "display_name": "genv",
   "language": "python",
   "name": "python3"
  },
  "language_info": {
   "codemirror_mode": {
    "name": "ipython",
    "version": 3
   },
   "file_extension": ".py",
   "mimetype": "text/x-python",
   "name": "python",
   "nbconvert_exporter": "python",
   "pygments_lexer": "ipython3",
   "version": "3.12.7"
  }
 },
 "nbformat": 4,
 "nbformat_minor": 5
}
